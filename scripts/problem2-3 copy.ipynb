{
 "cells": [
  {
   "cell_type": "code",
   "execution_count": 107,
   "metadata": {},
   "outputs": [],
   "source": [
    "from sympy import symbols, Array, tensorproduct, Matrix, init_printing, pprint, zeros, MatMul\n"
   ]
  },
  {
   "cell_type": "code",
   "execution_count": 87,
   "metadata": {},
   "outputs": [
    {
     "name": "stdout",
     "output_type": "stream",
     "text": [
      "[[a11, a12, a13, a14], [a21, a22, a23, a24], [a31, a32, a33, a34], [a41, a42, a43, a44]]\n"
     ]
    }
   ],
   "source": [
    "# A is a n x n complex matrix\n",
    "n = 2\n",
    "\n",
    "# makes a 2d array, in our case:\n",
    "# a list containing n empty lists\n",
    "\n",
    "matrix = [[] for _ in range(n*n)]\n",
    "for i in range(n*n):\n",
    "    for j in range(n*n):\n",
    "        matrix[i].append(symbols(f\"a{i+1}{j+1}\"))\n",
    "print(matrix)"
   ]
  },
  {
   "cell_type": "code",
   "execution_count": 85,
   "metadata": {},
   "outputs": [
    {
     "name": "stdout",
     "output_type": "stream",
     "text": [
      "(4, 4)\n"
     ]
    },
    {
     "data": {
      "text/latex": [
       "$\\displaystyle \\left[\\begin{matrix}a_{11} & a_{12} & a_{13} & a_{14}\\\\a_{21} & a_{22} & a_{23} & a_{24}\\\\a_{31} & a_{32} & a_{33} & a_{34}\\\\a_{41} & a_{42} & a_{43} & a_{44}\\end{matrix}\\right]$"
      ],
      "text/plain": [
       "⎡a₁₁  a₁₂  a₁₃  a₁₄⎤\n",
       "⎢                  ⎥\n",
       "⎢a₂₁  a₂₂  a₂₃  a₂₄⎥\n",
       "⎢                  ⎥\n",
       "⎢a₃₁  a₃₂  a₃₃  a₃₄⎥\n",
       "⎢                  ⎥\n",
       "⎣a₄₁  a₄₂  a₄₃  a₄₄⎦"
      ]
     },
     "metadata": {},
     "output_type": "display_data"
    }
   ],
   "source": [
    "A = Matrix(matrix)\n",
    "# included in iPython 6.0 display will choose appropriate representation (text/LaTeX/png)\n",
    "# you can think of iPython as the interpreter that runs in jupyter notebooks\n",
    "print(A.shape)\n",
    "display(A)"
   ]
  },
  {
   "cell_type": "code",
   "execution_count": 15,
   "metadata": {},
   "outputs": [
    {
     "name": "stdout",
     "output_type": "stream",
     "text": [
      "(4, 4, 4, 4)\n"
     ]
    },
    {
     "data": {
      "text/latex": [
       "$\\displaystyle \\left[\\begin{matrix}\\left[\\begin{matrix}a_{11}^{2} & a_{11} a_{12} & a_{11} a_{13} & a_{11} a_{14}\\\\a_{11} a_{21} & a_{11} a_{22} & a_{11} a_{23} & a_{11} a_{24}\\\\a_{11} a_{31} & a_{11} a_{32} & a_{11} a_{33} & a_{11} a_{34}\\\\a_{11} a_{41} & a_{11} a_{42} & a_{11} a_{43} & a_{11} a_{44}\\end{matrix}\\right] & \\left[\\begin{matrix}a_{11} a_{12} & a_{12}^{2} & a_{12} a_{13} & a_{12} a_{14}\\\\a_{12} a_{21} & a_{12} a_{22} & a_{12} a_{23} & a_{12} a_{24}\\\\a_{12} a_{31} & a_{12} a_{32} & a_{12} a_{33} & a_{12} a_{34}\\\\a_{12} a_{41} & a_{12} a_{42} & a_{12} a_{43} & a_{12} a_{44}\\end{matrix}\\right] & \\left[\\begin{matrix}a_{11} a_{13} & a_{12} a_{13} & a_{13}^{2} & a_{13} a_{14}\\\\a_{13} a_{21} & a_{13} a_{22} & a_{13} a_{23} & a_{13} a_{24}\\\\a_{13} a_{31} & a_{13} a_{32} & a_{13} a_{33} & a_{13} a_{34}\\\\a_{13} a_{41} & a_{13} a_{42} & a_{13} a_{43} & a_{13} a_{44}\\end{matrix}\\right] & \\left[\\begin{matrix}a_{11} a_{14} & a_{12} a_{14} & a_{13} a_{14} & a_{14}^{2}\\\\a_{14} a_{21} & a_{14} a_{22} & a_{14} a_{23} & a_{14} a_{24}\\\\a_{14} a_{31} & a_{14} a_{32} & a_{14} a_{33} & a_{14} a_{34}\\\\a_{14} a_{41} & a_{14} a_{42} & a_{14} a_{43} & a_{14} a_{44}\\end{matrix}\\right]\\\\\\left[\\begin{matrix}a_{11} a_{21} & a_{12} a_{21} & a_{13} a_{21} & a_{14} a_{21}\\\\a_{21}^{2} & a_{21} a_{22} & a_{21} a_{23} & a_{21} a_{24}\\\\a_{21} a_{31} & a_{21} a_{32} & a_{21} a_{33} & a_{21} a_{34}\\\\a_{21} a_{41} & a_{21} a_{42} & a_{21} a_{43} & a_{21} a_{44}\\end{matrix}\\right] & \\left[\\begin{matrix}a_{11} a_{22} & a_{12} a_{22} & a_{13} a_{22} & a_{14} a_{22}\\\\a_{21} a_{22} & a_{22}^{2} & a_{22} a_{23} & a_{22} a_{24}\\\\a_{22} a_{31} & a_{22} a_{32} & a_{22} a_{33} & a_{22} a_{34}\\\\a_{22} a_{41} & a_{22} a_{42} & a_{22} a_{43} & a_{22} a_{44}\\end{matrix}\\right] & \\left[\\begin{matrix}a_{11} a_{23} & a_{12} a_{23} & a_{13} a_{23} & a_{14} a_{23}\\\\a_{21} a_{23} & a_{22} a_{23} & a_{23}^{2} & a_{23} a_{24}\\\\a_{23} a_{31} & a_{23} a_{32} & a_{23} a_{33} & a_{23} a_{34}\\\\a_{23} a_{41} & a_{23} a_{42} & a_{23} a_{43} & a_{23} a_{44}\\end{matrix}\\right] & \\left[\\begin{matrix}a_{11} a_{24} & a_{12} a_{24} & a_{13} a_{24} & a_{14} a_{24}\\\\a_{21} a_{24} & a_{22} a_{24} & a_{23} a_{24} & a_{24}^{2}\\\\a_{24} a_{31} & a_{24} a_{32} & a_{24} a_{33} & a_{24} a_{34}\\\\a_{24} a_{41} & a_{24} a_{42} & a_{24} a_{43} & a_{24} a_{44}\\end{matrix}\\right]\\\\\\left[\\begin{matrix}a_{11} a_{31} & a_{12} a_{31} & a_{13} a_{31} & a_{14} a_{31}\\\\a_{21} a_{31} & a_{22} a_{31} & a_{23} a_{31} & a_{24} a_{31}\\\\a_{31}^{2} & a_{31} a_{32} & a_{31} a_{33} & a_{31} a_{34}\\\\a_{31} a_{41} & a_{31} a_{42} & a_{31} a_{43} & a_{31} a_{44}\\end{matrix}\\right] & \\left[\\begin{matrix}a_{11} a_{32} & a_{12} a_{32} & a_{13} a_{32} & a_{14} a_{32}\\\\a_{21} a_{32} & a_{22} a_{32} & a_{23} a_{32} & a_{24} a_{32}\\\\a_{31} a_{32} & a_{32}^{2} & a_{32} a_{33} & a_{32} a_{34}\\\\a_{32} a_{41} & a_{32} a_{42} & a_{32} a_{43} & a_{32} a_{44}\\end{matrix}\\right] & \\left[\\begin{matrix}a_{11} a_{33} & a_{12} a_{33} & a_{13} a_{33} & a_{14} a_{33}\\\\a_{21} a_{33} & a_{22} a_{33} & a_{23} a_{33} & a_{24} a_{33}\\\\a_{31} a_{33} & a_{32} a_{33} & a_{33}^{2} & a_{33} a_{34}\\\\a_{33} a_{41} & a_{33} a_{42} & a_{33} a_{43} & a_{33} a_{44}\\end{matrix}\\right] & \\left[\\begin{matrix}a_{11} a_{34} & a_{12} a_{34} & a_{13} a_{34} & a_{14} a_{34}\\\\a_{21} a_{34} & a_{22} a_{34} & a_{23} a_{34} & a_{24} a_{34}\\\\a_{31} a_{34} & a_{32} a_{34} & a_{33} a_{34} & a_{34}^{2}\\\\a_{34} a_{41} & a_{34} a_{42} & a_{34} a_{43} & a_{34} a_{44}\\end{matrix}\\right]\\\\\\left[\\begin{matrix}a_{11} a_{41} & a_{12} a_{41} & a_{13} a_{41} & a_{14} a_{41}\\\\a_{21} a_{41} & a_{22} a_{41} & a_{23} a_{41} & a_{24} a_{41}\\\\a_{31} a_{41} & a_{32} a_{41} & a_{33} a_{41} & a_{34} a_{41}\\\\a_{41}^{2} & a_{41} a_{42} & a_{41} a_{43} & a_{41} a_{44}\\end{matrix}\\right] & \\left[\\begin{matrix}a_{11} a_{42} & a_{12} a_{42} & a_{13} a_{42} & a_{14} a_{42}\\\\a_{21} a_{42} & a_{22} a_{42} & a_{23} a_{42} & a_{24} a_{42}\\\\a_{31} a_{42} & a_{32} a_{42} & a_{33} a_{42} & a_{34} a_{42}\\\\a_{41} a_{42} & a_{42}^{2} & a_{42} a_{43} & a_{42} a_{44}\\end{matrix}\\right] & \\left[\\begin{matrix}a_{11} a_{43} & a_{12} a_{43} & a_{13} a_{43} & a_{14} a_{43}\\\\a_{21} a_{43} & a_{22} a_{43} & a_{23} a_{43} & a_{24} a_{43}\\\\a_{31} a_{43} & a_{32} a_{43} & a_{33} a_{43} & a_{34} a_{43}\\\\a_{41} a_{43} & a_{42} a_{43} & a_{43}^{2} & a_{43} a_{44}\\end{matrix}\\right] & \\left[\\begin{matrix}a_{11} a_{44} & a_{12} a_{44} & a_{13} a_{44} & a_{14} a_{44}\\\\a_{21} a_{44} & a_{22} a_{44} & a_{23} a_{44} & a_{24} a_{44}\\\\a_{31} a_{44} & a_{32} a_{44} & a_{33} a_{44} & a_{34} a_{44}\\\\a_{41} a_{44} & a_{42} a_{44} & a_{43} a_{44} & a_{44}^{2}\\end{matrix}\\right]\\end{matrix}\\right]$"
      ],
      "text/plain": [
       "⎡⎡    2                             ⎤  ⎡             2                    ⎤  ⎡                      2           ⎤  ⎡                               2  ⎤⎤\n",
       "⎢⎢ a₁₁     a₁₁⋅a₁₂  a₁₁⋅a₁₃  a₁₁⋅a₁₄⎥  ⎢a₁₁⋅a₁₂   a₁₂     a₁₂⋅a₁₃  a₁₂⋅a₁₄⎥  ⎢a₁₁⋅a₁₃  a₁₂⋅a₁₃   a₁₃     a₁₃⋅a₁₄⎥  ⎢a₁₁⋅a₁₄  a₁₂⋅a₁₄  a₁₃⋅a₁₄   a₁₄   ⎥⎥\n",
       "⎢⎢                                  ⎥  ⎢                                  ⎥  ⎢                                  ⎥  ⎢                                  ⎥⎥\n",
       "⎢⎢a₁₁⋅a₂₁  a₁₁⋅a₂₂  a₁₁⋅a₂₃  a₁₁⋅a₂₄⎥  ⎢a₁₂⋅a₂₁  a₁₂⋅a₂₂  a₁₂⋅a₂₃  a₁₂⋅a₂₄⎥  ⎢a₁₃⋅a₂₁  a₁₃⋅a₂₂  a₁₃⋅a₂₃  a₁₃⋅a₂₄⎥  ⎢a₁₄⋅a₂₁  a₁₄⋅a₂₂  a₁₄⋅a₂₃  a₁₄⋅a₂₄⎥⎥\n",
       "⎢⎢                                  ⎥  ⎢                                  ⎥  ⎢                                  ⎥  ⎢                                  ⎥⎥\n",
       "⎢⎢a₁₁⋅a₃₁  a₁₁⋅a₃₂  a₁₁⋅a₃₃  a₁₁⋅a₃₄⎥  ⎢a₁₂⋅a₃₁  a₁₂⋅a₃₂  a₁₂⋅a₃₃  a₁₂⋅a₃₄⎥  ⎢a₁₃⋅a₃₁  a₁₃⋅a₃₂  a₁₃⋅a₃₃  a₁₃⋅a₃₄⎥  ⎢a₁₄⋅a₃₁  a₁₄⋅a₃₂  a₁₄⋅a₃₃  a₁₄⋅a₃₄⎥⎥\n",
       "⎢⎢                                  ⎥  ⎢                                  ⎥  ⎢                                  ⎥  ⎢                                  ⎥⎥\n",
       "⎢⎣a₁₁⋅a₄₁  a₁₁⋅a₄₂  a₁₁⋅a₄₃  a₁₁⋅a₄₄⎦  ⎣a₁₂⋅a₄₁  a₁₂⋅a₄₂  a₁₂⋅a₄₃  a₁₂⋅a₄₄⎦  ⎣a₁₃⋅a₄₁  a₁₃⋅a₄₂  a₁₃⋅a₄₃  a₁₃⋅a₄₄⎦  ⎣a₁₄⋅a₄₁  a₁₄⋅a₄₂  a₁₄⋅a₄₃  a₁₄⋅a₄₄⎦⎥\n",
       "⎢                                                                                                                                                      ⎥\n",
       "⎢⎡a₁₁⋅a₂₁  a₁₂⋅a₂₁  a₁₃⋅a₂₁  a₁₄⋅a₂₁⎤  ⎡a₁₁⋅a₂₂  a₁₂⋅a₂₂  a₁₃⋅a₂₂  a₁₄⋅a₂₂⎤  ⎡a₁₁⋅a₂₃  a₁₂⋅a₂₃  a₁₃⋅a₂₃  a₁₄⋅a₂₃⎤  ⎡a₁₁⋅a₂₄  a₁₂⋅a₂₄  a₁₃⋅a₂₄  a₁₄⋅a₂₄⎤⎥\n",
       "⎢⎢                                  ⎥  ⎢                                  ⎥  ⎢                                  ⎥  ⎢                                  ⎥⎥\n",
       "⎢⎢    2                             ⎥  ⎢             2                    ⎥  ⎢                      2           ⎥  ⎢                               2  ⎥⎥\n",
       "⎢⎢ a₂₁     a₂₁⋅a₂₂  a₂₁⋅a₂₃  a₂₁⋅a₂₄⎥  ⎢a₂₁⋅a₂₂   a₂₂     a₂₂⋅a₂₃  a₂₂⋅a₂₄⎥  ⎢a₂₁⋅a₂₃  a₂₂⋅a₂₃   a₂₃     a₂₃⋅a₂₄⎥  ⎢a₂₁⋅a₂₄  a₂₂⋅a₂₄  a₂₃⋅a₂₄   a₂₄   ⎥⎥\n",
       "⎢⎢                                  ⎥  ⎢                                  ⎥  ⎢                                  ⎥  ⎢                                  ⎥⎥\n",
       "⎢⎢a₂₁⋅a₃₁  a₂₁⋅a₃₂  a₂₁⋅a₃₃  a₂₁⋅a₃₄⎥  ⎢a₂₂⋅a₃₁  a₂₂⋅a₃₂  a₂₂⋅a₃₃  a₂₂⋅a₃₄⎥  ⎢a₂₃⋅a₃₁  a₂₃⋅a₃₂  a₂₃⋅a₃₃  a₂₃⋅a₃₄⎥  ⎢a₂₄⋅a₃₁  a₂₄⋅a₃₂  a₂₄⋅a₃₃  a₂₄⋅a₃₄⎥⎥\n",
       "⎢⎢                                  ⎥  ⎢                                  ⎥  ⎢                                  ⎥  ⎢                                  ⎥⎥\n",
       "⎢⎣a₂₁⋅a₄₁  a₂₁⋅a₄₂  a₂₁⋅a₄₃  a₂₁⋅a₄₄⎦  ⎣a₂₂⋅a₄₁  a₂₂⋅a₄₂  a₂₂⋅a₄₃  a₂₂⋅a₄₄⎦  ⎣a₂₃⋅a₄₁  a₂₃⋅a₄₂  a₂₃⋅a₄₃  a₂₃⋅a₄₄⎦  ⎣a₂₄⋅a₄₁  a₂₄⋅a₄₂  a₂₄⋅a₄₃  a₂₄⋅a₄₄⎦⎥\n",
       "⎢                                                                                                                                                      ⎥\n",
       "⎢⎡a₁₁⋅a₃₁  a₁₂⋅a₃₁  a₁₃⋅a₃₁  a₁₄⋅a₃₁⎤  ⎡a₁₁⋅a₃₂  a₁₂⋅a₃₂  a₁₃⋅a₃₂  a₁₄⋅a₃₂⎤  ⎡a₁₁⋅a₃₃  a₁₂⋅a₃₃  a₁₃⋅a₃₃  a₁₄⋅a₃₃⎤  ⎡a₁₁⋅a₃₄  a₁₂⋅a₃₄  a₁₃⋅a₃₄  a₁₄⋅a₃₄⎤⎥\n",
       "⎢⎢                                  ⎥  ⎢                                  ⎥  ⎢                                  ⎥  ⎢                                  ⎥⎥\n",
       "⎢⎢a₂₁⋅a₃₁  a₂₂⋅a₃₁  a₂₃⋅a₃₁  a₂₄⋅a₃₁⎥  ⎢a₂₁⋅a₃₂  a₂₂⋅a₃₂  a₂₃⋅a₃₂  a₂₄⋅a₃₂⎥  ⎢a₂₁⋅a₃₃  a₂₂⋅a₃₃  a₂₃⋅a₃₃  a₂₄⋅a₃₃⎥  ⎢a₂₁⋅a₃₄  a₂₂⋅a₃₄  a₂₃⋅a₃₄  a₂₄⋅a₃₄⎥⎥\n",
       "⎢⎢                                  ⎥  ⎢                                  ⎥  ⎢                                  ⎥  ⎢                                  ⎥⎥\n",
       "⎢⎢    2                             ⎥  ⎢             2                    ⎥  ⎢                      2           ⎥  ⎢                               2  ⎥⎥\n",
       "⎢⎢ a₃₁     a₃₁⋅a₃₂  a₃₁⋅a₃₃  a₃₁⋅a₃₄⎥  ⎢a₃₁⋅a₃₂   a₃₂     a₃₂⋅a₃₃  a₃₂⋅a₃₄⎥  ⎢a₃₁⋅a₃₃  a₃₂⋅a₃₃   a₃₃     a₃₃⋅a₃₄⎥  ⎢a₃₁⋅a₃₄  a₃₂⋅a₃₄  a₃₃⋅a₃₄   a₃₄   ⎥⎥\n",
       "⎢⎢                                  ⎥  ⎢                                  ⎥  ⎢                                  ⎥  ⎢                                  ⎥⎥\n",
       "⎢⎣a₃₁⋅a₄₁  a₃₁⋅a₄₂  a₃₁⋅a₄₃  a₃₁⋅a₄₄⎦  ⎣a₃₂⋅a₄₁  a₃₂⋅a₄₂  a₃₂⋅a₄₃  a₃₂⋅a₄₄⎦  ⎣a₃₃⋅a₄₁  a₃₃⋅a₄₂  a₃₃⋅a₄₃  a₃₃⋅a₄₄⎦  ⎣a₃₄⋅a₄₁  a₃₄⋅a₄₂  a₃₄⋅a₄₃  a₃₄⋅a₄₄⎦⎥\n",
       "⎢                                                                                                                                                      ⎥\n",
       "⎢⎡a₁₁⋅a₄₁  a₁₂⋅a₄₁  a₁₃⋅a₄₁  a₁₄⋅a₄₁⎤  ⎡a₁₁⋅a₄₂  a₁₂⋅a₄₂  a₁₃⋅a₄₂  a₁₄⋅a₄₂⎤  ⎡a₁₁⋅a₄₃  a₁₂⋅a₄₃  a₁₃⋅a₄₃  a₁₄⋅a₄₃⎤  ⎡a₁₁⋅a₄₄  a₁₂⋅a₄₄  a₁₃⋅a₄₄  a₁₄⋅a₄₄⎤⎥\n",
       "⎢⎢                                  ⎥  ⎢                                  ⎥  ⎢                                  ⎥  ⎢                                  ⎥⎥\n",
       "⎢⎢a₂₁⋅a₄₁  a₂₂⋅a₄₁  a₂₃⋅a₄₁  a₂₄⋅a₄₁⎥  ⎢a₂₁⋅a₄₂  a₂₂⋅a₄₂  a₂₃⋅a₄₂  a₂₄⋅a₄₂⎥  ⎢a₂₁⋅a₄₃  a₂₂⋅a₄₃  a₂₃⋅a₄₃  a₂₄⋅a₄₃⎥  ⎢a₂₁⋅a₄₄  a₂₂⋅a₄₄  a₂₃⋅a₄₄  a₂₄⋅a₄₄⎥⎥\n",
       "⎢⎢                                  ⎥  ⎢                                  ⎥  ⎢                                  ⎥  ⎢                                  ⎥⎥\n",
       "⎢⎢a₃₁⋅a₄₁  a₃₂⋅a₄₁  a₃₃⋅a₄₁  a₃₄⋅a₄₁⎥  ⎢a₃₁⋅a₄₂  a₃₂⋅a₄₂  a₃₃⋅a₄₂  a₃₄⋅a₄₂⎥  ⎢a₃₁⋅a₄₃  a₃₂⋅a₄₃  a₃₃⋅a₄₃  a₃₄⋅a₄₃⎥  ⎢a₃₁⋅a₄₄  a₃₂⋅a₄₄  a₃₃⋅a₄₄  a₃₄⋅a₄₄⎥⎥\n",
       "⎢⎢                                  ⎥  ⎢                                  ⎥  ⎢                                  ⎥  ⎢                                  ⎥⎥\n",
       "⎢⎢    2                             ⎥  ⎢             2                    ⎥  ⎢                      2           ⎥  ⎢                               2  ⎥⎥\n",
       "⎣⎣ a₄₁     a₄₁⋅a₄₂  a₄₁⋅a₄₃  a₄₁⋅a₄₄⎦  ⎣a₄₁⋅a₄₂   a₄₂     a₄₂⋅a₄₃  a₄₂⋅a₄₄⎦  ⎣a₄₁⋅a₄₃  a₄₂⋅a₄₃   a₄₃     a₄₃⋅a₄₄⎦  ⎣a₄₁⋅a₄₄  a₄₂⋅a₄₄  a₄₃⋅a₄₄   a₄₄   ⎦⎦"
      ]
     },
     "metadata": {},
     "output_type": "display_data"
    }
   ],
   "source": [
    "AtA = tensorproduct(A,A)\n",
    "init_printing()\n",
    "print(AtA.shape)\n",
    "\n",
    "display(AtA)\n"
   ]
  },
  {
   "cell_type": "code",
   "execution_count": 17,
   "metadata": {},
   "outputs": [
    {
     "data": {
      "text/latex": [
       "$\\displaystyle \\left[\\begin{matrix}1\\\\0\\\\0\\\\0\\end{matrix}\\right]$"
      ],
      "text/plain": [
       "⎡1⎤\n",
       "⎢ ⎥\n",
       "⎢0⎥\n",
       "⎢ ⎥\n",
       "⎢0⎥\n",
       "⎢ ⎥\n",
       "⎣0⎦"
      ]
     },
     "metadata": {},
     "output_type": "display_data"
    }
   ],
   "source": [
    "# These are our elementary 2x2 matrices unrolled into a column vector\n",
    "e11 = Matrix([[1], [0], [0], [0]])\n",
    "e12 = Matrix([[0], [1], [0], [0]])\n",
    "e21 = Matrix([[0], [0], [1], [0]])\n",
    "e22 = Matrix([[0], [0], [0], [1]])\n",
    "display(e11)"
   ]
  },
  {
   "cell_type": "code",
   "execution_count": 78,
   "metadata": {},
   "outputs": [
    {
     "data": {
      "text/latex": [
       "$\\displaystyle \\left[\\begin{matrix}0 & 1 & 2\\\\3 & 4 & 5\\\\6 & 7 & 8\\end{matrix}\\right]$"
      ],
      "text/plain": [
       "⎡0  1  2⎤\n",
       "⎢       ⎥\n",
       "⎢3  4  5⎥\n",
       "⎢       ⎥\n",
       "⎣6  7  8⎦"
      ]
     },
     "execution_count": 78,
     "metadata": {},
     "output_type": "execute_result"
    }
   ],
   "source": [
    "# this generates a map square -> sqrt for all the perfect squares in [1,81]\n",
    "squares = {n**2:n for n in range(1,10)}\n",
    "\n",
    "def rollMatrix(matrix):\n",
    "    # rows and cols\n",
    "    r,c = matrix.shape\n",
    "    # if a column vector with n^2 entries\n",
    "    # we can roll into n x n matrix\n",
    "    if r not in squares or c != 1:\n",
    "        print(\"ex\")\n",
    "        raise Exception(\"Matrix cannot be unrolled, make sure matrix \\\n",
    "            is square and has atleast 1 entry\")\n",
    "    # the sqrt of r (# of rows) is n for our n x n matrix output\n",
    "    n = squares[r]\n",
    "    # n x n matrix of zeros\n",
    "    new_matrix = [[0] * n for _ in range(n)]\n",
    "    \n",
    "    for i in range(n):\n",
    "        for j in range(n):\n",
    "            # remember when indexing 2d arrays, first num is row, second is col\n",
    "            # also remember python is zero indexed while matlab is 1 indexed\n",
    "            new_matrix[i][j] = matrix[i*n + j]\n",
    "            \n",
    "    return Matrix(new_matrix)\n",
    "# example!\n",
    "rollMatrix(Matrix([[0],[1],[2],[3],[4],[5],[6],[7],[8]]))\n"
   ]
  },
  {
   "cell_type": "code",
   "execution_count": 80,
   "metadata": {},
   "outputs": [
    {
     "data": {
      "text/latex": [
       "$\\displaystyle \\left[\\begin{matrix}0\\\\1\\\\2\\\\3\\\\4\\\\5\\\\6\\\\7\\\\8\\end{matrix}\\right]$"
      ],
      "text/plain": [
       "⎡0⎤\n",
       "⎢ ⎥\n",
       "⎢1⎥\n",
       "⎢ ⎥\n",
       "⎢2⎥\n",
       "⎢ ⎥\n",
       "⎢3⎥\n",
       "⎢ ⎥\n",
       "⎢4⎥\n",
       "⎢ ⎥\n",
       "⎢5⎥\n",
       "⎢ ⎥\n",
       "⎢6⎥\n",
       "⎢ ⎥\n",
       "⎢7⎥\n",
       "⎢ ⎥\n",
       "⎣8⎦"
      ]
     },
     "execution_count": 80,
     "metadata": {},
     "output_type": "execute_result"
    }
   ],
   "source": [
    "def unrollMatrix(matrix):\n",
    "    # rows and cols\n",
    "    r,c = matrix.shape\n",
    "    # if a n x n matrix and \n",
    "    # we can roll into n x n matrix\n",
    "    if r != c or r <= 0:\n",
    "        print(\"ex\")\n",
    "        raise Exception(\"Matrix cannot be unrolled, make sure matrix \\\n",
    "            has a square number of entries and 1 column\")\n",
    "    \n",
    "    # the sqrt of r (# of rows) is n for our n x n matrix output\n",
    "    n = r\n",
    "    # if this looks really confusing its called list comprehension\n",
    "    # and is super powerful, but can get ugly\n",
    "    # n x n matrix of zeros\n",
    "    \n",
    "    # this works because in sympy matrices\n",
    "    # can be indexed by one number\n",
    "    # i think this shouldnt work but i did not make sympy\n",
    "    new_matrix = [ matrix[i] for i in range(n*n)]\n",
    "    \n",
    "    return Matrix(new_matrix)\n",
    "# example\n",
    "unrollMatrix(Matrix([[0,1,2],[3,4,5],[6,7,8]]))"
   ]
  },
  {
   "cell_type": "code",
   "execution_count": 112,
   "metadata": {},
   "outputs": [
    {
     "name": "stdout",
     "output_type": "stream",
     "text": [
      "2\n"
     ]
    },
    {
     "data": {
      "text/latex": [
       "$\\displaystyle \\left[\\begin{matrix}2 a_{11}^{2} + 2 a_{12} a_{13} + 2 a_{21} a_{31} + 2 a_{22} a_{33} & 2 a_{11} a_{21} + 2 a_{12} a_{23} + 2 a_{21} a_{41} + 2 a_{22} a_{43}\\\\2 a_{11} a_{31} + 2 a_{13} a_{32} + 2 a_{31} a_{41} + 2 a_{33} a_{42} & 2 a_{21} a_{31} + 2 a_{23} a_{32} + 2 a_{41}^{2} + 2 a_{42} a_{43}\\end{matrix}\\right]$"
      ],
      "text/plain": [
       "⎡      2                                                                                     ⎤\n",
       "⎢ 2⋅a₁₁  + 2⋅a₁₂⋅a₁₃ + 2⋅a₂₁⋅a₃₁ + 2⋅a₂₂⋅a₃₃    2⋅a₁₁⋅a₂₁ + 2⋅a₁₂⋅a₂₃ + 2⋅a₂₁⋅a₄₁ + 2⋅a₂₂⋅a₄₃⎥\n",
       "⎢                                                                                            ⎥\n",
       "⎢                                                                             2              ⎥\n",
       "⎣2⋅a₁₁⋅a₃₁ + 2⋅a₁₃⋅a₃₂ + 2⋅a₃₁⋅a₄₁ + 2⋅a₃₃⋅a₄₂   2⋅a₂₁⋅a₃₁ + 2⋅a₂₃⋅a₃₂ + 2⋅a₄₁  + 2⋅a₄₂⋅a₄₃  ⎦"
      ]
     },
     "metadata": {},
     "output_type": "display_data"
    },
    {
     "data": {
      "text/latex": [
       "$\\displaystyle \\left[\\begin{matrix}2 a_{11} a_{12} + 2 a_{12} a_{14} + 2 a_{21} a_{32} + 2 a_{22} a_{34} & 2 a_{11} a_{22} + 2 a_{12} a_{24} + 2 a_{21} a_{42} + 2 a_{22} a_{44}\\\\2 a_{12} a_{31} + 2 a_{14} a_{32} + 2 a_{32} a_{41} + 2 a_{34} a_{42} & 2 a_{22} a_{31} + 2 a_{24} a_{32} + 2 a_{41} a_{42} + 2 a_{42} a_{44}\\end{matrix}\\right]$"
      ],
      "text/plain": [
       "⎡2⋅a₁₁⋅a₁₂ + 2⋅a₁₂⋅a₁₄ + 2⋅a₂₁⋅a₃₂ + 2⋅a₂₂⋅a₃₄  2⋅a₁₁⋅a₂₂ + 2⋅a₁₂⋅a₂₄ + 2⋅a₂₁⋅a₄₂ + 2⋅a₂₂⋅a₄₄⎤\n",
       "⎢                                                                                            ⎥\n",
       "⎣2⋅a₁₂⋅a₃₁ + 2⋅a₁₄⋅a₃₂ + 2⋅a₃₂⋅a₄₁ + 2⋅a₃₄⋅a₄₂  2⋅a₂₂⋅a₃₁ + 2⋅a₂₄⋅a₃₂ + 2⋅a₄₁⋅a₄₂ + 2⋅a₄₂⋅a₄₄⎦"
      ]
     },
     "metadata": {},
     "output_type": "display_data"
    },
    {
     "data": {
      "text/latex": [
       "$\\displaystyle \\left[\\begin{matrix}2 a_{11} a_{13} + 2 a_{13} a_{14} + 2 a_{23} a_{31} + 2 a_{24} a_{33} & 2 a_{13} a_{21} + 2 a_{14} a_{23} + 2 a_{23} a_{41} + 2 a_{24} a_{43}\\\\2 a_{11} a_{33} + 2 a_{13} a_{34} + 2 a_{31} a_{43} + 2 a_{33} a_{44} & 2 a_{21} a_{33} + 2 a_{23} a_{34} + 2 a_{41} a_{43} + 2 a_{43} a_{44}\\end{matrix}\\right]$"
      ],
      "text/plain": [
       "⎡2⋅a₁₁⋅a₁₃ + 2⋅a₁₃⋅a₁₄ + 2⋅a₂₃⋅a₃₁ + 2⋅a₂₄⋅a₃₃  2⋅a₁₃⋅a₂₁ + 2⋅a₁₄⋅a₂₃ + 2⋅a₂₃⋅a₄₁ + 2⋅a₂₄⋅a₄₃⎤\n",
       "⎢                                                                                            ⎥\n",
       "⎣2⋅a₁₁⋅a₃₃ + 2⋅a₁₃⋅a₃₄ + 2⋅a₃₁⋅a₄₃ + 2⋅a₃₃⋅a₄₄  2⋅a₂₁⋅a₃₃ + 2⋅a₂₃⋅a₃₄ + 2⋅a₄₁⋅a₄₃ + 2⋅a₄₃⋅a₄₄⎦"
      ]
     },
     "metadata": {},
     "output_type": "display_data"
    },
    {
     "data": {
      "text/latex": [
       "$\\displaystyle \\left[\\begin{matrix}2 a_{12} a_{13} + 2 a_{14}^{2} + 2 a_{23} a_{32} + 2 a_{24} a_{34} & 2 a_{13} a_{22} + 2 a_{14} a_{24} + 2 a_{23} a_{42} + 2 a_{24} a_{44}\\\\2 a_{12} a_{33} + 2 a_{14} a_{34} + 2 a_{32} a_{43} + 2 a_{34} a_{44} & 2 a_{22} a_{33} + 2 a_{24} a_{34} + 2 a_{42} a_{43} + 2 a_{44}^{2}\\end{matrix}\\right]$"
      ],
      "text/plain": [
       "⎡                  2                                                                         ⎤\n",
       "⎢ 2⋅a₁₂⋅a₁₃ + 2⋅a₁₄  + 2⋅a₂₃⋅a₃₂ + 2⋅a₂₄⋅a₃₄    2⋅a₁₃⋅a₂₂ + 2⋅a₁₄⋅a₂₄ + 2⋅a₂₃⋅a₄₂ + 2⋅a₂₄⋅a₄₄⎥\n",
       "⎢                                                                                            ⎥\n",
       "⎢                                                                                         2  ⎥\n",
       "⎣2⋅a₁₂⋅a₃₃ + 2⋅a₁₄⋅a₃₄ + 2⋅a₃₂⋅a₄₃ + 2⋅a₃₄⋅a₄₄   2⋅a₂₂⋅a₃₃ + 2⋅a₂₄⋅a₃₄ + 2⋅a₄₂⋅a₄₃ + 2⋅a₄₄   ⎦"
      ]
     },
     "metadata": {},
     "output_type": "display_data"
    }
   ],
   "source": [
    "# this will make e[1][1] = e11\n",
    "e = [\n",
    "     [None, None, None],\n",
    "     [None, e11, e12],\n",
    "     [None, e21, e22]\n",
    "    ]\n",
    "print(n)\n",
    "\n",
    "for i in range(1,1+n):\n",
    "    for j in range(1,1+n):\n",
    "        s = zeros(n,n)\n",
    "        for k in range(1,1+n):\n",
    "            s += 2*(rollMatrix(A*e[i][k]) * rollMatrix(A*e[k][j]))\n",
    "        display(s)"
   ]
  }
 ],
 "metadata": {
  "kernelspec": {
   "display_name": "Python 3 (ipykernel)",
   "language": "python",
   "name": "python3"
  },
  "language_info": {
   "codemirror_mode": {
    "name": "ipython",
    "version": 3
   },
   "file_extension": ".py",
   "mimetype": "text/x-python",
   "name": "python",
   "nbconvert_exporter": "python",
   "pygments_lexer": "ipython3",
   "version": "3.8.10"
  },
  "vscode": {
   "interpreter": {
    "hash": "31f2aee4e71d21fbe5cf8b01ff0e069b9275f58929596ceb00d14d90e3e16cd6"
   }
  }
 },
 "nbformat": 4,
 "nbformat_minor": 2
}
