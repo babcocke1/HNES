{
 "cells": [
  {
   "cell_type": "code",
   "execution_count": 86,
   "metadata": {},
   "outputs": [],
   "source": [
    "from sympy import symbols, solve, Array, tensorproduct, Matrix, init_printing, pprint, zeros, MatMul, Eq, latex, factor\n"
   ]
  },
  {
   "cell_type": "code",
   "execution_count": 87,
   "metadata": {},
   "outputs": [
    {
     "name": "stdout",
     "output_type": "stream",
     "text": [
      "[[a11, a12, a13, a14], [a21, a22, a23, a24], [a31, a32, a33, a34], [a41, a42, a43, a44]]\n"
     ]
    }
   ],
   "source": [
    "# A is a n x n complex matrix\n",
    "n = 2\n",
    "\n",
    "# makes a 2d array, in our case:\n",
    "# a list containing n empty lists\n",
    "\n",
    "matrix = [[] for _ in range(n*n)]\n",
    "for i in range(n*n):\n",
    "    for j in range(n*n):\n",
    "        matrix[i].append(symbols(f\"a{i+1}{j+1}\"))\n",
    "print(matrix)"
   ]
  },
  {
   "cell_type": "code",
   "execution_count": 88,
   "metadata": {},
   "outputs": [
    {
     "name": "stdout",
     "output_type": "stream",
     "text": [
      "(4, 4)\n"
     ]
    },
    {
     "data": {
      "text/latex": [
       "$\\displaystyle \\left[\\begin{matrix}a_{11} & a_{12} & a_{13} & a_{14}\\\\a_{21} & a_{22} & a_{23} & a_{24}\\\\a_{31} & a_{32} & a_{33} & a_{34}\\\\a_{41} & a_{42} & a_{43} & a_{44}\\end{matrix}\\right]$"
      ],
      "text/plain": [
       "⎡a₁₁  a₁₂  a₁₃  a₁₄⎤\n",
       "⎢                  ⎥\n",
       "⎢a₂₁  a₂₂  a₂₃  a₂₄⎥\n",
       "⎢                  ⎥\n",
       "⎢a₃₁  a₃₂  a₃₃  a₃₄⎥\n",
       "⎢                  ⎥\n",
       "⎣a₄₁  a₄₂  a₄₃  a₄₄⎦"
      ]
     },
     "metadata": {},
     "output_type": "display_data"
    }
   ],
   "source": [
    "A = Matrix(matrix)\n",
    "# included in iPython 6.0 display will choose appropriate representation (text/LaTeX/png)\n",
    "# you can think of iPython as the interpreter that runs in jupyter notebooks\n",
    "print(A.shape)\n",
    "display(A)"
   ]
  },
  {
   "cell_type": "code",
   "execution_count": 89,
   "metadata": {
    "scrolled": true
   },
   "outputs": [
    {
     "data": {
      "text/latex": [
       "$\\displaystyle \\left[\\begin{matrix}1\\\\0\\\\0\\\\0\\end{matrix}\\right]$"
      ],
      "text/plain": [
       "⎡1⎤\n",
       "⎢ ⎥\n",
       "⎢0⎥\n",
       "⎢ ⎥\n",
       "⎢0⎥\n",
       "⎢ ⎥\n",
       "⎣0⎦"
      ]
     },
     "metadata": {},
     "output_type": "display_data"
    }
   ],
   "source": [
    "# These are our elementary 2x2 matrices unrolled into a column vector\n",
    "e11 = Matrix([[1], [0], [0], [0]])\n",
    "e12 = Matrix([[0], [1], [0], [0]])\n",
    "e21 = Matrix([[0], [0], [1], [0]])\n",
    "e22 = Matrix([[0], [0], [0], [1]])\n",
    "display(e11)\n"
   ]
  },
  {
   "cell_type": "code",
   "execution_count": null,
   "metadata": {},
   "outputs": [],
   "source": []
  },
  {
   "cell_type": "code",
   "execution_count": 90,
   "metadata": {},
   "outputs": [
    {
     "data": {
      "text/latex": [
       "$\\displaystyle \\left[\\begin{matrix}0 & 1 & 2\\\\3 & 4 & 5\\\\6 & 7 & 8\\end{matrix}\\right]$"
      ],
      "text/plain": [
       "⎡0  1  2⎤\n",
       "⎢       ⎥\n",
       "⎢3  4  5⎥\n",
       "⎢       ⎥\n",
       "⎣6  7  8⎦"
      ]
     },
     "execution_count": 90,
     "metadata": {},
     "output_type": "execute_result"
    }
   ],
   "source": [
    "# this generates a map square -> sqrt for all the perfect squares in [1,81]\n",
    "squares = {n**2:n for n in range(1,10)}\n",
    "\n",
    "def rollMatrix(matrix):\n",
    "    # rows and cols\n",
    "    r,c = matrix.shape\n",
    "    # if a column vector with n^2 entries\n",
    "    # we can roll into n x n matrix\n",
    "    if r not in squares or c != 1:\n",
    "        print(\"ex\")\n",
    "        raise Exception(\"Matrix cannot be unrolled, make sure matrix \\\n",
    "            is square and has atleast 1 entry\")\n",
    "    # the sqrt of r (# of rows) is n for our n x n matrix output\n",
    "    n = squares[r]\n",
    "    # n x n matrix of zeros\n",
    "    new_matrix = [[0] * n for _ in range(n)]\n",
    "    \n",
    "    for i in range(n):\n",
    "        for j in range(n):\n",
    "            # remember when indexing 2d arrays, first num is row, second is col\n",
    "            # also remember python is zero indexed while matlab is 1 indexed\n",
    "            new_matrix[i][j] = matrix[i*n + j]\n",
    "            \n",
    "    return Matrix(new_matrix)\n",
    "# example!\n",
    "rollMatrix(Matrix([[0],[1],[2],[3],[4],[5],[6],[7],[8]]))\n"
   ]
  },
  {
   "cell_type": "code",
   "execution_count": 91,
   "metadata": {},
   "outputs": [
    {
     "data": {
      "text/latex": [
       "$\\displaystyle \\left[\\begin{matrix}0\\\\1\\\\2\\\\3\\\\4\\\\5\\\\6\\\\7\\\\8\\end{matrix}\\right]$"
      ],
      "text/plain": [
       "⎡0⎤\n",
       "⎢ ⎥\n",
       "⎢1⎥\n",
       "⎢ ⎥\n",
       "⎢2⎥\n",
       "⎢ ⎥\n",
       "⎢3⎥\n",
       "⎢ ⎥\n",
       "⎢4⎥\n",
       "⎢ ⎥\n",
       "⎢5⎥\n",
       "⎢ ⎥\n",
       "⎢6⎥\n",
       "⎢ ⎥\n",
       "⎢7⎥\n",
       "⎢ ⎥\n",
       "⎣8⎦"
      ]
     },
     "execution_count": 91,
     "metadata": {},
     "output_type": "execute_result"
    }
   ],
   "source": [
    "def unrollMatrix(matrix):\n",
    "    # rows and cols\n",
    "    r,c = matrix.shape\n",
    "    # if a n x n matrix and \n",
    "    # we can roll into n x n matrix\n",
    "    if r != c or r <= 0:\n",
    "        print(\"ex\")\n",
    "        raise Exception(\"Matrix cannot be unrolled, make sure matrix \\\n",
    "            has a square number of entries and 1 column\")\n",
    "    \n",
    "    # the sqrt of r (# of rows) is n for our n x n matrix output\n",
    "    n = r\n",
    "    # if this looks really confusing its called list comprehension\n",
    "    # and is super powerful, but can get ugly\n",
    "    # n x n matrix of zeros\n",
    "    \n",
    "    # this works because in sympy matrices\n",
    "    # can be indexed by one number\n",
    "    # i think this shouldnt work but i did not make sympy\n",
    "    new_matrix = [ matrix[i] for i in range(n*n)]\n",
    "    \n",
    "    return Matrix(new_matrix)\n",
    "# example\n",
    "unrollMatrix(Matrix([[0,1,2],[3,4,5],[6,7,8]]))"
   ]
  },
  {
   "cell_type": "code",
   "execution_count": 94,
   "metadata": {},
   "outputs": [
    {
     "name": "stdout",
     "output_type": "stream",
     "text": [
      "2\n",
      "1 1 1\n",
      "1 1 2\n",
      "1 2 1\n",
      "1 2 2\n",
      "2 1 1\n",
      "2 1 2\n",
      "2 2 1\n",
      "2 2 2\n"
     ]
    },
    {
     "data": {
      "text/latex": [
       "$\\displaystyle \\left[\\begin{matrix}2 a_{11}^{2} + 2 a_{22} a_{33} & 0\\\\0 & 2 a_{23} a_{32} + 2 a_{41}^{2}\\end{matrix}\\right]$"
      ],
      "text/plain": [
       "⎡     2                                ⎤\n",
       "⎢2⋅a₁₁  + 2⋅a₂₂⋅a₃₃          0         ⎥\n",
       "⎢                                      ⎥\n",
       "⎢                                     2⎥\n",
       "⎣        0           2⋅a₂₃⋅a₃₂ + 2⋅a₄₁ ⎦"
      ]
     },
     "metadata": {},
     "output_type": "display_data"
    },
    {
     "data": {
      "text/latex": [
       "$\\displaystyle \\left[\\begin{matrix}0 & 2 a_{11} a_{22} + 2 a_{22} a_{44}\\\\2 a_{14} a_{32} + 2 a_{32} a_{41} & 0\\end{matrix}\\right]$"
      ],
      "text/plain": [
       "⎡          0            2⋅a₁₁⋅a₂₂ + 2⋅a₂₂⋅a₄₄⎤\n",
       "⎢                                            ⎥\n",
       "⎣2⋅a₁₄⋅a₃₂ + 2⋅a₃₂⋅a₄₁            0          ⎦"
      ]
     },
     "metadata": {},
     "output_type": "display_data"
    },
    {
     "data": {
      "text/latex": [
       "$\\displaystyle \\left[\\begin{matrix}0 & 2 a_{14} a_{23} + 2 a_{23} a_{41}\\\\2 a_{11} a_{33} + 2 a_{33} a_{44} & 0\\end{matrix}\\right]$"
      ],
      "text/plain": [
       "⎡          0            2⋅a₁₄⋅a₂₃ + 2⋅a₂₃⋅a₄₁⎤\n",
       "⎢                                            ⎥\n",
       "⎣2⋅a₁₁⋅a₃₃ + 2⋅a₃₃⋅a₄₄            0          ⎦"
      ]
     },
     "metadata": {},
     "output_type": "display_data"
    },
    {
     "data": {
      "text/latex": [
       "$\\displaystyle \\left[\\begin{matrix}2 a_{14}^{2} + 2 a_{23} a_{32} & 0\\\\0 & 2 a_{22} a_{33} + 2 a_{44}^{2}\\end{matrix}\\right]$"
      ],
      "text/plain": [
       "⎡     2                                ⎤\n",
       "⎢2⋅a₁₄  + 2⋅a₂₃⋅a₃₂          0         ⎥\n",
       "⎢                                      ⎥\n",
       "⎢                                     2⎥\n",
       "⎣        0           2⋅a₂₂⋅a₃₃ + 2⋅a₄₄ ⎦"
      ]
     },
     "metadata": {},
     "output_type": "display_data"
    }
   ],
   "source": [
    "# this will make e[1][1] = e11\n",
    "e = [\n",
    "     [None, None, None],\n",
    "     [None, e11, e12],\n",
    "     [None, e21, e22]\n",
    "    ]\n",
    "print(n)\n",
    "s = [[zeros(n,n)]*3 for _ in range(3)] \n",
    "for i in range(1,1+n):\n",
    "    for j in range(1,1+n):\n",
    "        for k in range(1,1+n):\n",
    "            print(i,j,k)\n",
    "            s[i][j] += 2*(rollMatrix(A*e[i][k]) * rollMatrix(A*e[k][j]))\n",
    "display(s[1][1], s[1][2], s[2][1], s[2][2])"
   ]
  },
  {
   "cell_type": "code",
   "execution_count": 101,
   "metadata": {},
   "outputs": [
    {
     "data": {
      "image/png": "[encoded data removed]",
      "text/latex": [
       "$\\displaystyle \\left[ \\left[ a_{11}, \\  \\frac{a_{11}^{2}}{2} + \\frac{a_{22} a_{33}}{2}\\right], \\  \\left[ 0, \\  0\\right], \\  \\left[ 0, \\  0\\right], \\  \\left[ a_{41}, \\  \\frac{a_{23} a_{32}}{2} + \\frac{a_{41}^{2}}{2}\\right], \\  \\left[ 0, \\  0\\right], \\  \\left[ a_{22}, \\  \\frac{a_{11} a_{22}}{2} + \\frac{a_{22} a_{44}}{2}\\right], \\  \\left[ a_{32}, \\  \\frac{a_{14} a_{32}}{2} + \\frac{a_{32} a_{41}}{2}\\right], \\  \\left[ 0, \\  0\\right], \\  \\left[ 0, \\  0\\right], \\  \\left[ a_{23}, \\  \\frac{a_{14} a_{23}}{2} + \\frac{a_{23} a_{41}}{2}\\right], \\  \\left[ a_{33}, \\  \\frac{a_{11} a_{33}}{2} + \\frac{a_{33} a_{44}}{2}\\right], \\  \\left[ 0, \\  0\\right], \\  \\left[ a_{14}, \\  \\frac{a_{14}^{2}}{2} + \\frac{a_{23} a_{32}}{2}\\right], \\  \\left[ 0, \\  0\\right], \\  \\left[ 0, \\  0\\right], \\  \\left[ a_{44}, \\  \\frac{a_{22} a_{33}}{2} + \\frac{a_{44}^{2}}{2}\\right]\\right]$"
      ],
      "text/plain": [
       "⎡⎡        2          ⎤                  ⎡                  2⎤                 \n",
       "⎢⎢     a₁₁    a₂₂⋅a₃₃⎥                  ⎢     a₂₃⋅a₃₂   a₄₁ ⎥          ⎡     a\n",
       "⎢⎢a₁₁, ──── + ───────⎥, [0, 0], [0, 0], ⎢a₄₁, ─────── + ────⎥, [0, 0], ⎢a₂₂, ─\n",
       "⎣⎣      2        2   ⎦                  ⎣        2       2  ⎦          ⎣      \n",
       "\n",
       "                                                                              \n",
       "₁₁⋅a₂₂   a₂₂⋅a₄₄⎤  ⎡     a₁₄⋅a₃₂   a₃₂⋅a₄₁⎤                  ⎡     a₁₄⋅a₂₃   a\n",
       "────── + ───────⎥, ⎢a₃₂, ─────── + ───────⎥, [0, 0], [0, 0], ⎢a₂₃, ─────── + ─\n",
       "  2         2   ⎦  ⎣        2         2   ⎦                  ⎣        2       \n",
       "\n",
       "                                           ⎡        2          ⎤              \n",
       "₂₃⋅a₄₁⎤  ⎡     a₁₁⋅a₃₃   a₃₃⋅a₄₄⎤          ⎢     a₁₄    a₂₃⋅a₃₂⎥              \n",
       "──────⎥, ⎢a₃₃, ─────── + ───────⎥, [0, 0], ⎢a₁₄, ──── + ───────⎥, [0, 0], [0, \n",
       "  2   ⎦  ⎣        2         2   ⎦          ⎣      2        2   ⎦              \n",
       "\n",
       "    ⎡                  2⎤⎤\n",
       "    ⎢     a₂₂⋅a₃₃   a₄₄ ⎥⎥\n",
       "0], ⎢a₄₄, ─────── + ────⎥⎥\n",
       "    ⎣        2       2  ⎦⎦"
      ]
     },
     "metadata": {},
     "output_type": "display_data"
    },
    {
     "data": {
      "text/latex": [
       "$\\displaystyle \\left[\\begin{matrix}a_{11} & 0 & 0 & a_{14}\\\\0 & a_{22} & a_{23} & 0\\\\0 & a_{32} & a_{33} & 0\\\\a_{41} & 0 & 0 & a_{44}\\end{matrix}\\right]$"
      ],
      "text/plain": [
       "⎡a₁₁   0    0   a₁₄⎤\n",
       "⎢                  ⎥\n",
       "⎢ 0   a₂₂  a₂₃   0 ⎥\n",
       "⎢                  ⎥\n",
       "⎢ 0   a₃₂  a₃₃   0 ⎥\n",
       "⎢                  ⎥\n",
       "⎣a₄₁   0    0   a₄₄⎦"
      ]
     },
     "metadata": {},
     "output_type": "display_data"
    },
    {
     "data": {
      "text/latex": [
       "$\\displaystyle \\left[\\begin{matrix}4 a_{11} & 0\\\\0 & 4 a_{41}\\end{matrix}\\right]$"
      ],
      "text/plain": [
       "⎡4⋅a₁₁    0  ⎤\n",
       "⎢            ⎥\n",
       "⎣  0    4⋅a₄₁⎦"
      ]
     },
     "metadata": {},
     "output_type": "display_data"
    },
    {
     "data": {
      "text/latex": [
       "$\\displaystyle \\left[\\begin{matrix}4 a_{11} & 0\\\\0 & 4 a_{41}\\end{matrix}\\right] = \\left[\\begin{matrix}2 a_{11}^{2} + 2 a_{22} a_{33} & 0\\\\0 & 2 a_{23} a_{32} + 2 a_{41}^{2}\\end{matrix}\\right]$"
      ],
      "text/plain": [
       "                 ⎡     2                                ⎤\n",
       "⎡4⋅a₁₁    0  ⎤   ⎢2⋅a₁₁  + 2⋅a₂₂⋅a₃₃          0         ⎥\n",
       "⎢            ⎥ = ⎢                                      ⎥\n",
       "⎣  0    4⋅a₄₁⎦   ⎢                                     2⎥\n",
       "                 ⎣        0           2⋅a₂₃⋅a₃₂ + 2⋅a₄₁ ⎦"
      ]
     },
     "metadata": {},
     "output_type": "display_data"
    },
    {
     "name": "stdout",
     "output_type": "stream",
     "text": [
      "$ 2 a_{11} = a_{11}^{2} + a_{22} a_{33} $\\\\\n",
      "$ \\text{True} $\\\\\n",
      "$ \\text{True} $\\\\\n",
      "$ 2 a_{41} = a_{23} a_{32} + a_{41}^{2} $\\\\\n",
      "$ \\text{True} $\\\\\n",
      "$ 2 a_{22} = a_{22} \\left(a_{11} + a_{44}\\right) $\\\\\n",
      "$ 2 a_{32} = a_{32} \\left(a_{14} + a_{41}\\right) $\\\\\n",
      "$ \\text{True} $\\\\\n",
      "$ \\text{True} $\\\\\n",
      "$ 2 a_{23} = a_{23} \\left(a_{14} + a_{41}\\right) $\\\\\n",
      "$ 2 a_{33} = a_{33} \\left(a_{11} + a_{44}\\right) $\\\\\n",
      "$ \\text{True} $\\\\\n",
      "$ 2 a_{14} = a_{14}^{2} + a_{23} a_{32} $\\\\\n",
      "$ \\text{True} $\\\\\n",
      "$ \\text{True} $\\\\\n",
      "$ 2 a_{44} = a_{22} a_{33} + a_{44}^{2} $\\\\\n"
     ]
    },
    {
     "data": {
      "image/png": "[encoded data removed]",
      "text/latex": [
       "$\\displaystyle \\left[ 1 - \\sqrt{- a_{22} a_{33} + 1}, \\  \\sqrt{- a_{22} a_{33} + 1} + 1\\right]$"
      ],
      "text/plain": [
       "⎡      ______________    ______________    ⎤\n",
       "⎣1 - ╲╱ -a₂₂⋅a₃₃ + 1 , ╲╱ -a₂₂⋅a₃₃ + 1  + 1⎦"
      ]
     },
     "execution_count": 101,
     "metadata": {},
     "output_type": "execute_result"
    }
   ],
   "source": [
    "solve(rollMatrix(-4*A*e[1][1]) + s[1][1], A[0])\n",
    "equations = []\n",
    "A[1] = A[2] = A[4] = A[7] = A[8] = A[11] = A[13] = A[14] = 0\n",
    "A[\n",
    "for i in range(1,3):\n",
    "    for j in range(1,3):\n",
    "        for k in range(4):\n",
    "            equations.append([rollMatrix(A*e[i][j])[k], s[i][j][k]/4])\n",
    "\n",
    "symbols = []\n",
    "# for i in range(n*n*n*n):\n",
    "#     symbols.append(A[i])\n",
    "# This takes too long to run\n",
    "# display(solve(equations,symbols))\n",
    "            \n",
    "display(equations)\n",
    "display(A)\n",
    "display(rollMatrix(4*A*e[1][1]))\n",
    "(s[1][1])\n",
    "(rollMatrix(4*A*e[1][1]))\n",
    "equality = Eq(rollMatrix(4*A*e[1][1]), s[1][1])\n",
    "display(equality)\n",
    "# solve(equality, A[0])\n",
    "\n",
    "for a, eq in equations:\n",
    "    equal = Eq(2*a,2*factor(eq))\n",
    "#     display(factor(eq))\n",
    "    print(\"$\", latex(equal), \"$\\\\\\\\\")\n",
    "solve(equations[0][0]- equations[0][1], A[0])"
   ]
  }
 ],
 "metadata": {
  "kernelspec": {
   "display_name": "Python 3 (ipykernel)",
   "language": "python",
   "name": "python3"
  },
  "language_info": {
   "codemirror_mode": {
    "name": "ipython",
    "version": 3
   },
   "file_extension": ".py",
   "mimetype": "text/x-python",
   "name": "python",
   "nbconvert_exporter": "python",
   "pygments_lexer": "ipython3",
   "version": "3.8.10"
  },
  "vscode": {
   "interpreter": {
    "hash": "31f2aee4e71d21fbe5cf8b01ff0e069b9275f58929596ceb00d14d90e3e16cd6"
   }
  }
 },
 "nbformat": 4,
 "nbformat_minor": 2
}
